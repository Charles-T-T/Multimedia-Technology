{
 "cells": [
  {
   "cell_type": "code",
   "execution_count": 7,
   "metadata": {},
   "outputs": [],
   "source": [
    "import sys\n",
    "import os\n",
    "\n",
    "# 将项目的根目录添加到 sys.path\n",
    "project_root = r\"c:\\RUC\\CS\\Multimedia\\project\\test\\Haruhi-2-Dev\\ChatHaruhi\"  # 替换为你的项目根目录\n",
    "sys.path.append(project_root)"
   ]
  },
  {
   "cell_type": "code",
   "execution_count": 8,
   "metadata": {},
   "outputs": [],
   "source": [
    "from ChatHaruhi import ChatHaruhi"
   ]
  },
  {
   "cell_type": "code",
   "execution_count": 9,
   "metadata": {},
   "outputs": [],
   "source": [
    "chatbot = ChatHaruhi(role_name='haruhi',\n",
    "                     llm='openai',\n",
    "                     # max_len_story=1e5,\n",
    "                     # max_len_history=1e5\n",
    "                     )"
   ]
  },
  {
   "cell_type": "code",
   "execution_count": 11,
   "metadata": {},
   "outputs": [
    {
     "name": "stdout",
     "output_type": "stream",
     "text": [
      "春日:「当然要去参加啦！我们SOS团可不能错过任何一个展示自己的机会！要让全世界都知道我们的存在！」\n"
     ]
    }
   ],
   "source": [
    "response = chatbot.chat(role='阿虚', text='我看新一年的棒球比赛要开始了！我们要去参加吗？')\n",
    "print(response)"
   ]
  },
  {
   "cell_type": "code",
   "execution_count": 12,
   "metadata": {},
   "outputs": [
    {
     "name": "stdout",
     "output_type": "stream",
     "text": [
      "春日:「当然有计划啦！我们要在比赛上展示SOS团的风采，吸引更多人加入我们，让SOS团的名字传遍学校！不过，计划细节还需要我来想，你就放心跟着我就行了！」\n"
     ]
    }
   ],
   "source": [
    "response = chatbot.chat(role='阿虚', text='你有什么计划吗？')\n",
    "print(response)"
   ]
  },
  {
   "cell_type": "code",
   "execution_count": 13,
   "metadata": {},
   "outputs": [
    {
     "name": "stdout",
     "output_type": "stream",
     "text": [
      "春日:「当然记得了！比赛就是我们展现实力和吸引眼球的绝佳机会！SOS团肯定会在比赛中大放异彩！不用担心，我会安排一切的！」\n"
     ]
    }
   ],
   "source": [
    "response = chatbot.chat(role='阿虚', text='你还记得我刚才说的比赛吗？')\n",
    "print(response)"
   ]
  },
  {
   "cell_type": "code",
   "execution_count": 14,
   "metadata": {},
   "outputs": [
    {
     "name": "stdout",
     "output_type": "stream",
     "text": [
      "春日:「哎呀，阿虚，你这么健忘吗？我们可是要参加棒球比赛的，这可是展示SOS团实力的大好机会！你不要担心，跟着我肯定没错！」\n"
     ]
    }
   ],
   "source": [
    "response = chatbot.chat(role='阿虚', text='我有跟你说过棒球比赛的事吗？')\n",
    "print(response)"
   ]
  },
  {
   "cell_type": "code",
   "execution_count": 15,
   "metadata": {},
   "outputs": [
    {
     "data": {
      "text/plain": [
       "[('阿虚:「我看新一年的棒球比赛要开始了！我们要去参加吗？」',\n",
       "  '春日:「当然要去参加啦！我们SOS团可不能错过任何一个展示自己的机会！要让全世界都知道我们的存在！」'),\n",
       " ('阿虚:「你有什么计划吗？」',\n",
       "  '春日:「当然有计划啦！我们要在比赛上展示SOS团的风采，吸引更多人加入我们，让SOS团的名字传遍学校！不过，计划细节还需要我来想，你就放心跟着我就行了！」'),\n",
       " ('阿虚:「你还记得我刚才说的比赛吗？」',\n",
       "  '春日:「当然记得了！比赛就是我们展现实力和吸引眼球的绝佳机会！SOS团肯定会在比赛中大放异彩！不用担心，我会安排一切的！」'),\n",
       " ('阿虚:「我有跟你说过棒球比赛的事吗？」',\n",
       "  '春日:「哎呀，阿虚，你这么健忘吗？我们可是要参加棒球比赛的，这可是展示SOS团实力的大好机会！你不要担心，跟着我肯定没错！」')]"
      ]
     },
     "execution_count": 15,
     "metadata": {},
     "output_type": "execute_result"
    }
   ],
   "source": [
    "chatbot.dialogue_history"
   ]
  },
  {
   "cell_type": "code",
   "execution_count": 20,
   "metadata": {},
   "outputs": [
    {
     "data": {
      "text/plain": [
       "<NaiveDB.NaiveDB at 0x19d25ddc910>"
      ]
     },
     "execution_count": 20,
     "metadata": {},
     "output_type": "execute_result"
    }
   ],
   "source": [
    "chatbot.db"
   ]
  },
  {
   "cell_type": "code",
   "execution_count": null,
   "metadata": {},
   "outputs": [],
   "source": []
  }
 ],
 "metadata": {
  "kernelspec": {
   "display_name": "roleLLM",
   "language": "python",
   "name": "python3"
  },
  "language_info": {
   "codemirror_mode": {
    "name": "ipython",
    "version": 3
   },
   "file_extension": ".py",
   "mimetype": "text/x-python",
   "name": "python",
   "nbconvert_exporter": "python",
   "pygments_lexer": "ipython3",
   "version": "3.10.15"
  }
 },
 "nbformat": 4,
 "nbformat_minor": 2
}
