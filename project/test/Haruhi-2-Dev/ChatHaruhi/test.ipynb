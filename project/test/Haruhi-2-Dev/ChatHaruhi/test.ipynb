{
 "cells": [
  {
   "cell_type": "code",
   "execution_count": 1,
   "metadata": {},
   "outputs": [],
   "source": [
    "import sys\n",
    "import os\n",
    "\n",
    "# # 将项目的根目录添加到 sys.path\n",
    "# project_root = r\"c:\\RUC\\CS\\Multimedia\\project\\test\\Haruhi-2-Dev\\ChatHaruhi\"  # 替换为你的项目根目录\n",
    "# sys.path.append(project_root)"
   ]
  },
  {
   "cell_type": "code",
   "execution_count": 2,
   "metadata": {},
   "outputs": [],
   "source": [
    "from ChatHaruhi import ChatHaruhi"
   ]
  },
  {
   "cell_type": "code",
   "execution_count": 3,
   "metadata": {},
   "outputs": [],
   "source": [
    "chatbot = ChatHaruhi(role_name='haruhi',\n",
    "                     llm='openai',\n",
    "                     # max_len_story=1e5,\n",
    "                     # max_len_history=1e5\n",
    "                     )"
   ]
  },
  {
   "cell_type": "code",
   "execution_count": 4,
   "metadata": {},
   "outputs": [
    {
     "name": "stdout",
     "output_type": "stream",
     "text": [
      "正在下载Luotuo-Bert\n",
      "Luotuo-Bert下载完毕\n"
     ]
    },
    {
     "name": "stderr",
     "output_type": "stream",
     "text": [
      "d:\\Envs\\Anaconda3\\envs\\roleLLM\\lib\\site-packages\\transformers\\models\\bert\\modeling_bert.py:440: UserWarning: 1Torch was not compiled with flash attention. (Triggered internally at C:\\cb\\pytorch_1000000000000\\work\\aten\\src\\ATen\\native\\transformers\\cuda\\sdp_utils.cpp:455.)\n",
      "  attn_output = torch.nn.functional.scaled_dot_product_attention(\n"
     ]
    },
    {
     "name": "stdout",
     "output_type": "stream",
     "text": [
      "春日: 「当然要去参加啦！我们SOS团可不能错过这个机会展现自己的风采。不过，不要只满足于参加，我们要立下全国为目标，争取让SOS团的名号独步天下！」\n"
     ]
    }
   ],
   "source": [
    "response = chatbot.chat(role='阿虚', text='我看新一年的棒球比赛要开始了！我们要去参加吗？')\n",
    "print(response)"
   ]
  },
  {
   "cell_type": "code",
   "execution_count": 5,
   "metadata": {},
   "outputs": [
    {
     "name": "stdout",
     "output_type": "stream",
     "text": [
      "春日: 「当然有啦！我一直都有很多计划。不过，计划永远跟不上变化，所以要随机应变才行。不过，绝对不能没有计划，否则就会一团乱了。你放心，我会确保我们的计划是最完美的！」\n"
     ]
    }
   ],
   "source": [
    "response = chatbot.chat(role='阿虚', text='你有什么计划吗？')\n",
    "print(response)"
   ]
  },
  {
   "cell_type": "code",
   "execution_count": 6,
   "metadata": {},
   "outputs": [
    {
     "name": "stdout",
     "output_type": "stream",
     "text": [
      "春日: 「比赛？哦，对了，棒球比赛对吧？当然记得啦！我们可不能错过这个机会展现SOS团的风采。不过，别担心，我已经有了一些计划，准备让我们在比赛中大放异彩！」\n"
     ]
    }
   ],
   "source": [
    "response = chatbot.chat(role='阿虚', text='你还记得我刚才说的比赛吗？')\n",
    "print(response)"
   ]
  },
  {
   "cell_type": "code",
   "execution_count": 7,
   "metadata": {},
   "outputs": [
    {
     "name": "stdout",
     "output_type": "stream",
     "text": [
      "春日: 「哦，难道你没有跟我说过吗？不过没关系，我已经计划好我们要参加棒球比赛了。毕竟，这是展现SOS团实力的好机会，你放心，我会安排一切的！」\n"
     ]
    }
   ],
   "source": [
    "response = chatbot.chat(role='阿虚', text='我有跟你说过棒球比赛的事吗？')\n",
    "print(response)"
   ]
  },
  {
   "cell_type": "code",
   "execution_count": 8,
   "metadata": {},
   "outputs": [
    {
     "data": {
      "text/plain": [
       "[('阿虚:「我看新一年的棒球比赛要开始了！我们要去参加吗？」',\n",
       "  '春日: 「当然要去参加啦！我们SOS团可不能错过这个机会展现自己的风采。不过，不要只满足于参加，我们要立下全国为目标，争取让SOS团的名号独步天下！」'),\n",
       " ('阿虚:「你有什么计划吗？」',\n",
       "  '春日: 「当然有啦！我一直都有很多计划。不过，计划永远跟不上变化，所以要随机应变才行。不过，绝对不能没有计划，否则就会一团乱了。你放心，我会确保我们的计划是最完美的！」'),\n",
       " ('阿虚:「你还记得我刚才说的比赛吗？」',\n",
       "  '春日: 「比赛？哦，对了，棒球比赛对吧？当然记得啦！我们可不能错过这个机会展现SOS团的风采。不过，别担心，我已经有了一些计划，准备让我们在比赛中大放异彩！」'),\n",
       " ('阿虚:「我有跟你说过棒球比赛的事吗？」',\n",
       "  '春日: 「哦，难道你没有跟我说过吗？不过没关系，我已经计划好我们要参加棒球比赛了。毕竟，这是展现SOS团实力的好机会，你放心，我会安排一切的！」')]"
      ]
     },
     "execution_count": 8,
     "metadata": {},
     "output_type": "execute_result"
    }
   ],
   "source": [
    "chatbot.dialogue_history"
   ]
  },
  {
   "cell_type": "code",
   "execution_count": 9,
   "metadata": {},
   "outputs": [
    {
     "data": {
      "text/plain": [
       "<NaiveDB.NaiveDB at 0x1c00696ec20>"
      ]
     },
     "execution_count": 9,
     "metadata": {},
     "output_type": "execute_result"
    }
   ],
   "source": [
    "chatbot.db"
   ]
  },
  {
   "cell_type": "code",
   "execution_count": null,
   "metadata": {},
   "outputs": [],
   "source": []
  }
 ],
 "metadata": {
  "kernelspec": {
   "display_name": "roleLLM",
   "language": "python",
   "name": "python3"
  },
  "language_info": {
   "codemirror_mode": {
    "name": "ipython",
    "version": 3
   },
   "file_extension": ".py",
   "mimetype": "text/x-python",
   "name": "python",
   "nbconvert_exporter": "python",
   "pygments_lexer": "ipython3",
   "version": "3.10.15"
  }
 },
 "nbformat": 4,
 "nbformat_minor": 2
}
