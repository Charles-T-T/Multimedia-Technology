{
 "cells": [
  {
   "cell_type": "code",
   "execution_count": 48,
   "metadata": {},
   "outputs": [],
   "source": [
    "# 可自行添加/删除所需要的库\n",
    "import wave  \n",
    "import numpy as np\n",
    "import pylab as plt \n",
    "import scipy.signal as signal\n",
    "from python_speech_features import *\n",
    "import scipy.io.wavfile\n",
    "from matplotlib import pyplot as plt\n",
    "import time\n",
    "import os"
   ]
  },
  {
   "cell_type": "code",
   "execution_count": null,
   "metadata": {},
   "outputs": [],
   "source": [
    "# 定义一个类，输入wav路径，输出滑窗后的mfcc特征数组，维度参数，窗长均可自定，这边只是一个default\n",
    "class WavtoMfcc(object):\n",
    "    def __init__(self, url, numceps=13, segment_len = 1000, hop_len = 1000):\n",
    "        \"\"\"\n",
    "        Input:\n",
    "        url - wav文件路径\n",
    "        numcep - 倒频谱返回的数量，默认13，可调\n",
    "        segment_len - 窗长，一个窗包含多少个采样点\n",
    "        hop_len - 窗移，相邻两窗之间的间隔，一般小于窗长，这里选的是等于窗长\n",
    "        \n",
    "        Output:\n",
    "        None\n",
    "        \"\"\"\n",
    "        self.numceps = numceps\n",
    "        self.url = url\n",
    "        self.sample_rate, self.signal = scipy.io.wavfile.read(self.url)\n",
    "        self.signal = np.array(self.signal)\n",
    "        self.segment=[]\n",
    "        signal_len = len(self.signal)\n",
    "        \"\"\"\n",
    "        实现采样点滑窗，存入self.segment\n",
    "        \"\"\"\n",
    "        ### START HERE ###\n",
    "        self.hop_len = hop_len\n",
    "        for i in range(0, signal_len - segment_len + 1, hop_len):\n",
    "            self.segment.append(self.signal[i:i + segment_len])\n",
    "        ### END HERE ###\n",
    "        self.segment_len = len(self.segment)\n",
    "        self.segment = np.array(self.segment)\n",
    "        self.feature = self.get_segment_mfcc()\n",
    "        self.feature = np.array(self.feature)\n",
    "\n",
    "    def get_segment_mfcc(self):\n",
    "        '''\n",
    "        Input:\n",
    "        无 - 对self.signal进行处理\n",
    "        \n",
    "        Output:\n",
    "        feature - 对应窗的mfcc，返回维度可自动设计，一般为39\n",
    "\n",
    "        Parameters:\n",
    "        signal - 需要用来计算特征的音频信号，应该是一个N*1的数组\n",
    "        samplerate - 我们用来工作的信号的采样率\n",
    "        winlen - 分析窗口的长度，按秒计，默认0.025s(25ms)\n",
    "        winstep - 连续窗口之间的步长，按秒计，默认0.01s（10ms）\n",
    "        numcep - 倒频谱返回的数量，默认13\n",
    "        nfilt - 滤波器组的滤波器数量，默认26\n",
    "        nfft - FFT的大小，默认512\n",
    "        lowfreq - 梅尔滤波器的最低边缘，单位赫兹，默认为0\n",
    "        highfreq - 梅尔滤波器的最高边缘，单位赫兹，默认为采样率/2\n",
    "        preemph - 应用预加重过滤器和预加重过滤器的系数，0表示没有过滤器，默认0.97\n",
    "        ceplifter - 将升降器应用于最终的倒谱系数。 0没有升降机。默认值为22。\n",
    "        appendEnergy - 如果是true，则将第0个倒谱系数替换为总帧能量的对数。 \n",
    "        '''\n",
    "        data = self.signal\n",
    "\n",
    "        # You can try different parameters or change the function?\n",
    "        wav_feature = mfcc(data, self.sample_rate, numcep=self.numceps, winlen=0.025, winstep=0.01,\n",
    "                           nfilt=26, nfft=2048, lowfreq=0, highfreq=None, preemph=0.97)\n",
    "        \"\"\"\n",
    "        根据需要处理出最终特征\n",
    "        \"\"\"\n",
    "        ### START HERE ###\n",
    "        feature = []\n",
    "        # for s in self.segment:\n",
    "        #     feature.append(\n",
    "        #         mfcc(\n",
    "        #             s,\n",
    "        #             self.sample_rate,\n",
    "        #             numcep=self.numceps,\n",
    "        #             winlen=0.025,\n",
    "        #             winstep=0.01,\n",
    "        #             nfilt=26,\n",
    "        #             nfft=2048,\n",
    "        #             lowfreq=0,\n",
    "        #             highfreq=None,\n",
    "        #             preemph=0.97,\n",
    "        #         )\n",
    "        #     )\n",
    "        for i in range(0, len(wav_feature) - self.segment_len + 1, self.segment_len):\n",
    "            feature.append(wav_feature[i:i + self.segment_len])\n",
    "        ### END HERE ###\n",
    "        return np.array(feature)"
   ]
  },
  {
   "cell_type": "code",
   "execution_count": 66,
   "metadata": {},
   "outputs": [],
   "source": [
    "# 定义两个mfcc特征匹配的cost\n",
    "def cost(x,y):\n",
    "    return np.sum(np.power(x-y,2))"
   ]
  },
  {
   "cell_type": "code",
   "execution_count": 67,
   "metadata": {},
   "outputs": [],
   "source": [
    "wav_path1 = r\"./data_en_train/digit_6/9_6.wav\"\n",
    "wav_path2 = r\"./data_en_train/digit_6/10_6.wav\""
   ]
  },
  {
   "cell_type": "code",
   "execution_count": null,
   "metadata": {},
   "outputs": [],
   "source": [
    "# 简单测试WavtoMfcc类和cost的结果\n",
    "Wav1=WavtoMfcc(wav_path1)\n",
    "# f1=Wav1.get_segment_mfcc(np.array([1]))\n",
    "# print(f1.shape)\n",
    "Wav2=WavtoMfcc(wav_path2)\n",
    "# f2=Wav2.get_segment_mfcc(np.array([1,2]))\n",
    "# print(f2)\n",
    "# print(cost(f1,f2))"
   ]
  },
  {
   "cell_type": "code",
   "execution_count": 69,
   "metadata": {},
   "outputs": [],
   "source": [
    "# 预处理两两匹配的cost数组（PS：在这里其实并不非常必要，复杂度与直接调用仍然是一致的，差个常数）\n",
    "def getDist(x, y):\n",
    "    row, col = x.segment_len, y.segment_len\n",
    "    Dist = np.zeros((row, col))\n",
    "    for i in range(row):\n",
    "        for j in range(col):\n",
    "            Dist[i,j] = cost(x.feature[i], y.feature[j])\n",
    "    return Dist"
   ]
  },
  {
   "cell_type": "code",
   "execution_count": 70,
   "metadata": {
    "scrolled": true
   },
   "outputs": [
    {
     "ename": "ValueError",
     "evalue": "operands could not be broadcast together with shapes (22,13) (25,13) ",
     "output_type": "error",
     "traceback": [
      "\u001b[1;31m---------------------------------------------------------------------------\u001b[0m",
      "\u001b[1;31mValueError\u001b[0m                                Traceback (most recent call last)",
      "Cell \u001b[1;32mIn[70], line 2\u001b[0m\n\u001b[0;32m      1\u001b[0m \u001b[38;5;66;03m# 得到预处理出的两两匹配的代价\u001b[39;00m\n\u001b[1;32m----> 2\u001b[0m Dist \u001b[38;5;241m=\u001b[39m \u001b[43mgetDist\u001b[49m\u001b[43m(\u001b[49m\u001b[43mWav1\u001b[49m\u001b[43m,\u001b[49m\u001b[43mWav2\u001b[49m\u001b[43m)\u001b[49m\n",
      "Cell \u001b[1;32mIn[69], line 7\u001b[0m, in \u001b[0;36mgetDist\u001b[1;34m(x, y)\u001b[0m\n\u001b[0;32m      5\u001b[0m \u001b[38;5;28;01mfor\u001b[39;00m i \u001b[38;5;129;01min\u001b[39;00m \u001b[38;5;28mrange\u001b[39m(row):\n\u001b[0;32m      6\u001b[0m     \u001b[38;5;28;01mfor\u001b[39;00m j \u001b[38;5;129;01min\u001b[39;00m \u001b[38;5;28mrange\u001b[39m(col):\n\u001b[1;32m----> 7\u001b[0m         Dist[i,j] \u001b[38;5;241m=\u001b[39m \u001b[43mcost\u001b[49m\u001b[43m(\u001b[49m\u001b[43mx\u001b[49m\u001b[38;5;241;43m.\u001b[39;49m\u001b[43mfeature\u001b[49m\u001b[43m[\u001b[49m\u001b[43mi\u001b[49m\u001b[43m]\u001b[49m\u001b[43m,\u001b[49m\u001b[43m \u001b[49m\u001b[43my\u001b[49m\u001b[38;5;241;43m.\u001b[39;49m\u001b[43mfeature\u001b[49m\u001b[43m[\u001b[49m\u001b[43mj\u001b[49m\u001b[43m]\u001b[49m\u001b[43m)\u001b[49m\n\u001b[0;32m      8\u001b[0m \u001b[38;5;28;01mreturn\u001b[39;00m Dist\n",
      "Cell \u001b[1;32mIn[66], line 3\u001b[0m, in \u001b[0;36mcost\u001b[1;34m(x, y)\u001b[0m\n\u001b[0;32m      2\u001b[0m \u001b[38;5;28;01mdef\u001b[39;00m \u001b[38;5;21mcost\u001b[39m(x,y):\n\u001b[1;32m----> 3\u001b[0m     \u001b[38;5;28;01mreturn\u001b[39;00m np\u001b[38;5;241m.\u001b[39msum(np\u001b[38;5;241m.\u001b[39mpower(\u001b[43mx\u001b[49m\u001b[38;5;241;43m-\u001b[39;49m\u001b[43my\u001b[49m,\u001b[38;5;241m2\u001b[39m))\n",
      "\u001b[1;31mValueError\u001b[0m: operands could not be broadcast together with shapes (22,13) (25,13) "
     ]
    }
   ],
   "source": [
    "# 得到预处理出的两两匹配的代价\n",
    "Dist = getDist(Wav1,Wav2)"
   ]
  },
  {
   "cell_type": "code",
   "execution_count": 71,
   "metadata": {},
   "outputs": [],
   "source": [
    "def dtw(x, y, Dist=None, K=2):\n",
    "    \"\"\"\n",
    "    Computes Dynamic Time Warping (DTW) of two sequences.\n",
    "    Input:\n",
    "    :param array x: N1*M array\n",
    "    :param array y: N2*M array\n",
    "    :param func dist: distance used as cost measure\n",
    "    :param int K: flexible\n",
    "    Output:\n",
    "    Returns the normalized minimum distance D[-1, -1] / sum(D.shape), and the wrap path ans.\n",
    "    \"\"\"\n",
    "    row, col = x.segment_len, y.segment_len\n",
    "    D = np.zeros((row + 1, col + 1))\n",
    "    D[0, 1:] = np.inf\n",
    "    D[1:, 0] = np.inf\n",
    "    ans_path_x = np.zeros((row + 1, col + 1))\n",
    "    ans_path_y = np.zeros((row + 1, col + 1))\n",
    "    ### START HERE ###\n",
    "    for i in range(1, row + 1):\n",
    "        for j in range(1, col + 1):\n",
    "            # 更新最短距离(DP)\n",
    "            min_d = min(D[i - 1, j], D[i, j - 1], D[i - 1, j - 1])\n",
    "            D[i, j] = Dist[i - 1, j - 1] + min_d\n",
    "            # 记录路径\n",
    "            if min_d == D[i - 1, j]:\n",
    "                ans_path_x[i, j] = i - 1\n",
    "                ans_path_y[i, j] = j\n",
    "            elif min_d == D[i, j - 1]:\n",
    "                ans_path_x[i, j] = i\n",
    "                ans_path_y[i, j] = j - 1\n",
    "            else:\n",
    "                ans_path_x[i, j] = i - 1\n",
    "                ans_path_y[i, j] = j - 1\n",
    "\n",
    "    # 路径回溯\n",
    "    ans = []\n",
    "    i, j = row, col\n",
    "    while i > 0 and j > 0:\n",
    "        ans.append((i - 1, j - 1))\n",
    "        # TODO 直接写i, j?\n",
    "        prev_i, prev_j = int(ans_path_x[i, j]), int(ans_path_y[i, j])\n",
    "        i, j = prev_i, prev_j\n",
    "    ans.reverse()\n",
    "    ### END HERE ###\n",
    "    return D[-1, -1] / sum(D.shape), ans"
   ]
  },
  {
   "cell_type": "code",
   "execution_count": 72,
   "metadata": {},
   "outputs": [
    {
     "ename": "ValueError",
     "evalue": "operands could not be broadcast together with shapes (22,13) (25,13) ",
     "output_type": "error",
     "traceback": [
      "\u001b[1;31m---------------------------------------------------------------------------\u001b[0m",
      "\u001b[1;31mValueError\u001b[0m                                Traceback (most recent call last)",
      "Cell \u001b[1;32mIn[72], line 3\u001b[0m\n\u001b[0;32m      1\u001b[0m \u001b[38;5;66;03m# 计算两段wav的DTW score\u001b[39;00m\n\u001b[0;32m      2\u001b[0m time_start\u001b[38;5;241m=\u001b[39mtime\u001b[38;5;241m.\u001b[39mtime()\n\u001b[1;32m----> 3\u001b[0m Dist \u001b[38;5;241m=\u001b[39m \u001b[43mgetDist\u001b[49m\u001b[43m(\u001b[49m\u001b[43mWav1\u001b[49m\u001b[43m,\u001b[49m\u001b[43m \u001b[49m\u001b[43mWav2\u001b[49m\u001b[43m)\u001b[49m\n\u001b[0;32m      4\u001b[0m Cost, path \u001b[38;5;241m=\u001b[39m dtw(Wav1, Wav2, Dist, K \u001b[38;5;241m=\u001b[39m \u001b[38;5;241m2\u001b[39m)\n\u001b[0;32m      5\u001b[0m \u001b[38;5;28mprint\u001b[39m(Cost)\n",
      "Cell \u001b[1;32mIn[69], line 7\u001b[0m, in \u001b[0;36mgetDist\u001b[1;34m(x, y)\u001b[0m\n\u001b[0;32m      5\u001b[0m \u001b[38;5;28;01mfor\u001b[39;00m i \u001b[38;5;129;01min\u001b[39;00m \u001b[38;5;28mrange\u001b[39m(row):\n\u001b[0;32m      6\u001b[0m     \u001b[38;5;28;01mfor\u001b[39;00m j \u001b[38;5;129;01min\u001b[39;00m \u001b[38;5;28mrange\u001b[39m(col):\n\u001b[1;32m----> 7\u001b[0m         Dist[i,j] \u001b[38;5;241m=\u001b[39m \u001b[43mcost\u001b[49m\u001b[43m(\u001b[49m\u001b[43mx\u001b[49m\u001b[38;5;241;43m.\u001b[39;49m\u001b[43mfeature\u001b[49m\u001b[43m[\u001b[49m\u001b[43mi\u001b[49m\u001b[43m]\u001b[49m\u001b[43m,\u001b[49m\u001b[43m \u001b[49m\u001b[43my\u001b[49m\u001b[38;5;241;43m.\u001b[39;49m\u001b[43mfeature\u001b[49m\u001b[43m[\u001b[49m\u001b[43mj\u001b[49m\u001b[43m]\u001b[49m\u001b[43m)\u001b[49m\n\u001b[0;32m      8\u001b[0m \u001b[38;5;28;01mreturn\u001b[39;00m Dist\n",
      "Cell \u001b[1;32mIn[66], line 3\u001b[0m, in \u001b[0;36mcost\u001b[1;34m(x, y)\u001b[0m\n\u001b[0;32m      2\u001b[0m \u001b[38;5;28;01mdef\u001b[39;00m \u001b[38;5;21mcost\u001b[39m(x,y):\n\u001b[1;32m----> 3\u001b[0m     \u001b[38;5;28;01mreturn\u001b[39;00m np\u001b[38;5;241m.\u001b[39msum(np\u001b[38;5;241m.\u001b[39mpower(\u001b[43mx\u001b[49m\u001b[38;5;241;43m-\u001b[39;49m\u001b[43my\u001b[49m,\u001b[38;5;241m2\u001b[39m))\n",
      "\u001b[1;31mValueError\u001b[0m: operands could not be broadcast together with shapes (22,13) (25,13) "
     ]
    }
   ],
   "source": [
    "# 计算两段wav的DTW score\n",
    "time_start=time.time()\n",
    "Dist = getDist(Wav1, Wav2)\n",
    "Cost, path = dtw(Wav1, Wav2, Dist, K = 2)\n",
    "print(Cost)\n",
    "print(path)\n",
    "print(\"Time for one run: %f\"%(time.time()-time_start))"
   ]
  },
  {
   "cell_type": "code",
   "execution_count": 10,
   "metadata": {},
   "outputs": [],
   "source": [
    "# 对于同一个word的所有wav数据去重新寻找其中最好的一个，通过dtw得到的alignment构建master template，选择其中最好的一个，以提升识别的鲁棒性\n",
    "def Choice_Master(word, wav_arr):\n",
    "    \"\"\"\n",
    "    Computes master template from dataset.\n",
    "    Input:\n",
    "    word: a number in [0-9]\n",
    "    wav-arr: wav url which is corresponding with word\n",
    "    Output:\n",
    "    Returns the average master_template.\n",
    "    \"\"\"\n",
    "    master_temp = []\n",
    "    for i in range(len(wav_arr)):\n",
    "        master_wav = wav_arr[i]\n",
    "        \"\"\"\n",
    "        modified master_wav inplace to construct candidate master template for each wav file\n",
    "        \"\"\"\n",
    "        ### START HERE ###\n",
    "        \n",
    "        \n",
    "        \n",
    "        ### END HERE ###\n",
    "        master_temp.append(master_wav)\n",
    "    \"\"\"\n",
    "    calculate the cost for each candidate master template and pick the best as master template\n",
    "    \"\"\"\n",
    "    ave_cost = []\n",
    "    for i in range(len(master_temp)):\n",
    "        master_wav = master_temp[i]\n",
    "        cost_sum = 0\n",
    "        ### START HERE ###\n",
    "        \n",
    "        \n",
    "        \n",
    "        ### END HERE ###\n",
    "        ave_cost.append(cost_sum)\n",
    "    ave_cost = np.array(ave_cost)\n",
    "    idx = np.argmin(ave_cost)\n",
    "    \n",
    "    print(\" the best master template for word <\"+word+\"> is the \"+str(idx)+\"-th wav file.\")\n",
    "    return master_temp[idx]"
   ]
  },
  {
   "cell_type": "code",
   "execution_count": null,
   "metadata": {},
   "outputs": [],
   "source": [
    "# 构建master template\n",
    "wordlist = range(10)\n",
    "masterwav = []\n",
    "\n",
    "for word in wordlist:\n",
    "    wordpath=r\"./data_en_train/digit_\"+str(word)+\"/\"\n",
    "    wav_arr = []\n",
    "    for wavpath in os.listdir(wordpath):\n",
    "        wav_arr.append(WavtoMfcc(wordpath+wavpath))\n",
    "    #print(wav_arr)\n",
    "    masterwav.append(Choice_Master(str(word),wav_arr))\n"
   ]
  },
  {
   "cell_type": "code",
   "execution_count": 12,
   "metadata": {},
   "outputs": [],
   "source": [
    "# 存储每个word的master template\n",
    "np.savez('dtw_master_arr',masterwav=masterwav) "
   ]
  },
  {
   "cell_type": "code",
   "execution_count": 13,
   "metadata": {
    "scrolled": true
   },
   "outputs": [],
   "source": [
    "npzfile = np.load('dtw_master_arr.npz',allow_pickle=True)"
   ]
  },
  {
   "cell_type": "code",
   "execution_count": 14,
   "metadata": {},
   "outputs": [],
   "source": [
    "masterwav = npzfile['masterwav']"
   ]
  },
  {
   "cell_type": "code",
   "execution_count": 15,
   "metadata": {},
   "outputs": [],
   "source": [
    "# 利用在训练集上得到的master template，去计算在test集上word识别的效果\n",
    "def evaluation(masterwav):\n",
    "    acc = 0\n",
    "    cnt = 0\n",
    "    rootpath = \"./data_en_test/data_en/\"\n",
    "    rootdir = os.listdir(rootpath)\n",
    "    for file in rootdir:\n",
    "        word = int(file.split('.')[0].split('_')[1])\n",
    "        wavpath = os.path.join(rootpath, file)\n",
    "        \"\"\"\n",
    "        用master template和dtw做识别\n",
    "        \"\"\"\n",
    "        ### START HERE ###\n",
    "        \n",
    "        \n",
    "        \n",
    "        ### END HERE ###\n",
    "    return acc/cnt"
   ]
  },
  {
   "cell_type": "code",
   "execution_count": null,
   "metadata": {
    "scrolled": false
   },
   "outputs": [],
   "source": [
    "# 输出整体识别效果，例如0.75\n",
    "evaluation(masterwav)"
   ]
  },
  {
   "cell_type": "code",
   "execution_count": 17,
   "metadata": {},
   "outputs": [],
   "source": [
    "# 用master template做识别，输出识别单个语音的结果，结果为[0-9]\n",
    "def inference(masterwav, wav):\n",
    "    costs = []\n",
    "    ### START HERE ###\n",
    "        \n",
    "        \n",
    "        \n",
    "    ### END HERE ###\n",
    "    costs = np.array(costs)\n",
    "    ans_label = np.argmin(costs)\n",
    "    return ans_label"
   ]
  },
  {
   "cell_type": "code",
   "execution_count": 18,
   "metadata": {},
   "outputs": [
    {
     "data": {
      "text/plain": [
       "3"
      ]
     },
     "execution_count": 18,
     "metadata": {},
     "output_type": "execute_result"
    }
   ],
   "source": [
    "wav_path = r\"./data_en_test/data_en/18_3.wav\"\n",
    "wav_i = WavtoMfcc(wav_path)\n",
    "inference(masterwav, wav_i)"
   ]
  },
  {
   "cell_type": "code",
   "execution_count": 19,
   "metadata": {},
   "outputs": [],
   "source": [
    "# Bonus task:\n",
    "# 通过尝试不同策略修改Choice_Master函数（不要修改底层的DTW逻辑），获得更优秀的匹配分数"
   ]
  }
 ],
 "metadata": {
  "kernelspec": {
   "display_name": "gpuPytorch",
   "language": "python",
   "name": "python3"
  },
  "language_info": {
   "codemirror_mode": {
    "name": "ipython",
    "version": 3
   },
   "file_extension": ".py",
   "mimetype": "text/x-python",
   "name": "python",
   "nbconvert_exporter": "python",
   "pygments_lexer": "ipython3",
   "version": "3.9.19"
  }
 },
 "nbformat": 4,
 "nbformat_minor": 4
}
